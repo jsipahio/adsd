{
 "cells": [
  {
   "cell_type": "code",
   "execution_count": 9,
   "metadata": {},
   "outputs": [],
   "source": [
    "import sqlite3"
   ]
  },
  {
   "cell_type": "code",
   "execution_count": 10,
   "metadata": {},
   "outputs": [
    {
     "data": {
      "text/plain": [
       "<sqlite3.Connection at 0x7816d8fe93f0>"
      ]
     },
     "execution_count": 10,
     "metadata": {},
     "output_type": "execute_result"
    }
   ],
   "source": [
    "cnn = sqlite3.connect(\"pets.db\", autocommit=False)\n",
    "cnn"
   ]
  },
  {
   "cell_type": "code",
   "execution_count": 11,
   "metadata": {},
   "outputs": [
    {
     "data": {
      "text/plain": [
       "<sqlite3.Cursor at 0x7816d837f1c0>"
      ]
     },
     "execution_count": 11,
     "metadata": {},
     "output_type": "execute_result"
    }
   ],
   "source": [
    "crs = cnn.cursor()\n",
    "crs"
   ]
  },
  {
   "cell_type": "code",
   "execution_count": 14,
   "metadata": {},
   "outputs": [
    {
     "data": {
      "text/plain": [
       "<sqlite3.Cursor at 0x7816d837f1c0>"
      ]
     },
     "execution_count": 14,
     "metadata": {},
     "output_type": "execute_result"
    }
   ],
   "source": [
    "crs.execute(\"\"\"\n",
    "create table if not exists pets (\n",
    "    id integer primary key autoincrement,\n",
    "    name text not null,\n",
    "    type text not null,\n",
    "    age integer,\n",
    "    owner text\n",
    ")\n",
    "\"\"\")\n",
    "# cnn.commit()"
   ]
  },
  {
   "cell_type": "code",
   "execution_count": 16,
   "metadata": {},
   "outputs": [],
   "source": [
    "name = 'dorothy'\n",
    "\n",
    "crs.execute(\"\"\"\n",
    "insert into pets(name, type, age, owner)\n",
    "values(?,?,?,?)\n",
    "\"\"\", (name, 'dog', 9, 'greg'))\n",
    "cnn.commit()\n",
    "\n"
   ]
  },
  {
   "cell_type": "code",
   "execution_count": 17,
   "metadata": {},
   "outputs": [],
   "source": [
    "for name in  ('suzy', 'casey', 'heidy'):\n",
    "\n",
    "    crs.execute(\"\"\"\n",
    "    insert into pets(name, type, age, owner)\n",
    "    values(?,?,?,?)\n",
    "    \"\"\", (name, 'dog', 9, 'greg'))\n",
    "    cnn.commit()\n",
    "\n"
   ]
  },
  {
   "cell_type": "code",
   "execution_count": 18,
   "metadata": {},
   "outputs": [],
   "source": [
    "for name in  ('sandy', 'muffin', 'shadow'):\n",
    "\n",
    "    crs.execute(\"\"\"\n",
    "    insert into pets(name, type, age, owner)\n",
    "    values(?,?,?,?)\n",
    "    \"\"\", (name, 'cat', 9, 'katie'))\n",
    "    cnn.commit()\n",
    "\n"
   ]
  },
  {
   "cell_type": "code",
   "execution_count": 20,
   "metadata": {},
   "outputs": [
    {
     "name": "stdout",
     "output_type": "stream",
     "text": [
      "(2, 'dorothy', 'dog', 9, 'greg')\n",
      "(3, 'suzy', 'dog', 9, 'greg')\n",
      "(4, 'casey', 'dog', 9, 'greg')\n",
      "(5, 'heidy', 'dog', 9, 'greg')\n",
      "(6, 'sandy', 'cat', 9, 'katie')\n",
      "(7, 'muffin', 'cat', 9, 'katie')\n",
      "(8, 'shadow', 'cat', 9, 'katie')\n"
     ]
    }
   ],
   "source": [
    "crs.execute(\"select * from pets\")\n",
    "rows = crs.fetchall()\n",
    "\n",
    "for row in rows:\n",
    "    print(row)"
   ]
  },
  {
   "cell_type": "code",
   "execution_count": 21,
   "metadata": {},
   "outputs": [
    {
     "name": "stdout",
     "output_type": "stream",
     "text": [
      "(6, 'sandy', 'cat', 9, 'katie')\n",
      "(7, 'muffin', 'cat', 9, 'katie')\n",
      "(8, 'shadow', 'cat', 9, 'katie')\n"
     ]
    }
   ],
   "source": [
    "type = 'cat'\n",
    "crs.execute(\"select * from pets where type = ?\", (type,))\n",
    "rows = crs.fetchall()\n",
    "\n",
    "for row in rows:\n",
    "    print(row)"
   ]
  },
  {
   "cell_type": "code",
   "execution_count": 23,
   "metadata": {},
   "outputs": [
    {
     "name": "stdout",
     "output_type": "stream",
     "text": [
      "(6, 'sandy', 'cat', 9, 'katie')\n"
     ]
    }
   ],
   "source": [
    "crs.execute(\"select * from pets where type = ?\", ('cat',))\n",
    "row = crs.fetchone()\n",
    "print(row)"
   ]
  },
  {
   "cell_type": "code",
   "execution_count": 25,
   "metadata": {},
   "outputs": [],
   "source": [
    "crs.execute(\"update pets set age = ? where name = ?\", (11, 'sandy'))\n",
    "cnn.commit()"
   ]
  },
  {
   "cell_type": "code",
   "execution_count": 26,
   "metadata": {},
   "outputs": [],
   "source": [
    "crs.execute(\"delete from pets where type = ?\", ('cat',))\n",
    "cnn.commit()"
   ]
  }
 ],
 "metadata": {
  "kernelspec": {
   "display_name": "Python 3",
   "language": "python",
   "name": "python3"
  },
  "language_info": {
   "codemirror_mode": {
    "name": "ipython",
    "version": 3
   },
   "file_extension": ".py",
   "mimetype": "text/x-python",
   "name": "python",
   "nbconvert_exporter": "python",
   "pygments_lexer": "ipython3",
   "version": "3.12.1"
  }
 },
 "nbformat": 4,
 "nbformat_minor": 2
}
